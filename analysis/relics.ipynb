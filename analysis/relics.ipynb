{
 "cells": [
  {
   "cell_type": "code",
   "execution_count": 2,
   "metadata": {},
   "outputs": [],
   "source": [
    "import reliquery as rq\n",
    "from reliquery import Reliquery"
   ]
  },
  {
   "cell_type": "code",
   "execution_count": 11,
   "metadata": {},
   "outputs": [
    {
     "name": "stdout",
     "output_type": "stream",
     "text": [
      "/Volumes/murray/Spencer/emg_olympics/aeron\n",
      "/Volumes/murray/Spencer/emg_olympics/alba\n",
      "/Volumes/murray/Spencer/emg_olympics/andrei\n",
      "/Volumes/murray/Spencer/emg_olympics/andy\n",
      "/Volumes/murray/Spencer/emg_olympics/april\n",
      "/Volumes/murray/Spencer/emg_olympics/bob\n",
      "/Volumes/murray/Spencer/emg_olympics/chiyu\n",
      "/Volumes/murray/Spencer/emg_olympics/dammy\n",
      "/Volumes/murray/Spencer/emg_olympics/egzona\n",
      "/Volumes/murray/Spencer/emg_olympics/emmett\n",
      "/Volumes/murray/Spencer/emg_olympics/fede\n",
      "/Volumes/murray/Spencer/emg_olympics/georgia\n",
      "/Volumes/murray/Spencer/emg_olympics/holly\n",
      "/Volumes/murray/Spencer/emg_olympics/jai\n",
      "/Volumes/murray/Spencer/emg_olympics/jesse\n",
      "/Volumes/murray/Spencer/emg_olympics/lars\n",
      "/Volumes/murray/Spencer/emg_olympics/lucas\n",
      "/Volumes/murray/Spencer/emg_olympics/miranda\n",
      "/Volumes/murray/Spencer/emg_olympics/nate\n",
      "/Volumes/murray/Spencer/emg_olympics/oriol\n",
      "/Volumes/murray/Spencer/emg_olympics/rodrigo\n",
      "/Volumes/murray/Spencer/emg_olympics/peterg\n",
      "/Volumes/murray/Spencer/emg_olympics/zeynib\n",
      "/Volumes/murray/Spencer/emg_olympics/philip\n",
      "/Volumes/murray/Spencer/emg_olympics/svenja\n",
      "/Volumes/murray/Spencer/emg_olympics/tom\n",
      "/Volumes/murray/Spencer/emg_olympics/zane\n",
      "/Volumes/murray/Spencer/emg_olympics/daniel\n",
      "/Volumes/murray/Spencer/emg_olympics/clem\n",
      "/Volumes/murray/Spencer/emg_olympics/will\n",
      "/Volumes/murray/Spencer/emg_olympics/arthur\n",
      "/Volumes/murray/Spencer/emg_olympics/hyewon\n",
      "/Volumes/murray/Spencer/emg_olympics/peterv\n",
      "/Volumes/murray/Spencer/emg_olympics/elena\n",
      "/Volumes/murray/Spencer/emg_olympics/nicole\n",
      "/Volumes/murray/Spencer/emg_olympics/sarah\n",
      "/Volumes/murray/Spencer/emg_olympics/mattias\n",
      "/Volumes/murray/Spencer/emg_olympics/marta\n",
      "/Volumes/murray/Spencer/emg_olympics/hernando\n",
      "/Volumes/murray/Spencer/emg_olympics/viktor\n",
      "/Volumes/murray/Spencer/emg_olympics/lara\n",
      "/Volumes/murray/Spencer/emg_olympics/morio\n",
      "/Volumes/murray/Spencer/emg_olympics/quentin\n",
      "/Volumes/murray/Spencer/emg_olympics/ivana\n",
      "/Volumes/murray/Spencer/emg_olympics/billy\n",
      "/Volumes/murray/Spencer/emg_olympics/tiago\n",
      "/Volumes/murray/Spencer/emg_olympics/.DS_Store\n"
     ]
    }
   ],
   "source": [
    "from pathlib import Path\n",
    "olympics_folder = Path(\"/Volumes/murray/Spencer/emg_olympics/\")\n",
    "for subject in olympics_folder.iterdir():\n",
    "    print(subject)\n"
   ]
  },
  {
   "cell_type": "code",
   "execution_count": null,
   "metadata": {},
   "outputs": [],
   "source": [
    "for i in alldat:\n",
    "    relic_name = f\"{i['mouse_name']}-{i['date_exp']}\"\n",
    "    relic = Relic(name=relic_name, relic_type=\"steinmetz-decisions\", storage_name=\"dev\")# currently only those with write access can push to storage.\n",
    "    relic.add_tag({\n",
    "        \"mouse_name\": i['mouse_name'],\n",
    "        \"date_exp\": i['date_exp'],\n",
    "        \"relic-type\": \"steinmetz-decisions\",\n",
    "        \"data-layout\": \"trial\"\n",
    "    })\n",
    "    for k, v in i.items():\n",
    "        relic.add_array(k, v)"
   ]
  },
  {
   "cell_type": "code",
   "execution_count": null,
   "metadata": {},
   "outputs": [],
   "source": [
    "\n",
    "\n",
    "rq = Reliquery()\n",
    "\n",
    "# returns list of relics that were tagged by relic type\n",
    "relics = rq.get_relics_by_tag(key=\"relic-type\", value=RELIC_TYPE) # returns a list of Relic objects.\n",
    "\n",
    "trials = [i for i in relics if i.list_tags()[\"data-layout\"] == \"trial\"]\n",
    "categories = [i for i in relics if i.list_tags()[\"data-layout\"] == \"category\"]\n",
    "\n"
   ]
  }
 ],
 "metadata": {
  "interpreter": {
   "hash": "0db21c19022b94eeea0ce17515a9087ecd2cfe17b629fd89d7be0800b0f249c4"
  },
  "kernelspec": {
   "display_name": "Python 3.8.2 64-bit (conda)",
   "name": "python3"
  },
  "language_info": {
   "codemirror_mode": {
    "name": "ipython",
    "version": 3
   },
   "file_extension": ".py",
   "mimetype": "text/x-python",
   "name": "python",
   "nbconvert_exporter": "python",
   "pygments_lexer": "ipython3",
   "version": "3.9.7"
  },
  "orig_nbformat": 4
 },
 "nbformat": 4,
 "nbformat_minor": 2
}
