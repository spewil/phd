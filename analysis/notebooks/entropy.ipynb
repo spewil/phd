{
 "cells": [
  {
   "cell_type": "code",
   "execution_count": null,
   "metadata": {},
   "outputs": [],
   "source": [
    "# https://gregorygundersen.com/blog/2020/09/01/gaussian-entropy/\n",
    "\n",
    "# compute entropy over blocks for gaussian mixture fits \n",
    "# OR compute the ratio between the fit and a big gaussian?\n",
    "# goal: how does the entropy of these distributions evolve?\n",
    "\n",
    "entropy of a multivariate gaussian\n",
    "\n",
    "entropy of a gaussian mixture\n",
    "\n"
   ]
  }
 ],
 "metadata": {
  "language_info": {
   "name": "python"
  }
 },
 "nbformat": 4,
 "nbformat_minor": 2
}
