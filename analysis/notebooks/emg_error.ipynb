{
 "cells": [
  {
   "cell_type": "markdown",
   "metadata": {},
   "source": [
    "0. filter subjects for those with more than 3 hits on every target\n",
    "1. compute EMG ends -- the emg activity for hits, for each target\n",
    "2. subtract this activity from the trial activity to get an \"error\" signal\n",
    "3. for each target's activity, compute covariance of the error\n",
    "4. project each of those covariances onto task and null space"
   ]
  },
  {
   "cell_type": "code",
   "execution_count": 1,
   "metadata": {},
   "outputs": [],
   "source": [
    "import sys\n",
    "if not '..' in sys.path:\n",
    "    sys.path.append('..')\n",
    "%matplotlib inline\n",
    "import numpy as np\n",
    "from matplotlib import pyplot as plt\n",
    "from matplotlib import colormaps\n",
    "from analysis import collection, analysis, emg\n",
    "from analysis import plot as analysis_plot\n",
    "import scipy as sp\n",
    "import pandas as pd\n",
    "from sklearn.mixture import BayesianGaussianMixture\n",
    "from sklearn.base import clone\n",
    "import seaborn as sns\n",
    "import pickle\n",
    "from scipy.stats import multivariate_normal"
   ]
  },
  {
   "cell_type": "code",
   "execution_count": 2,
   "metadata": {},
   "outputs": [],
   "source": [
    "collection_name = \"emg_olympics\"\n",
    "task_name = \"center_hold\"\n",
    "c = collection.Collection(collection_name)\n",
    "subjects = c.alphabetically_sorted_subjects()"
   ]
  },
  {
   "cell_type": "code",
   "execution_count": null,
   "metadata": {},
   "outputs": [],
   "source": [
    "NUM_ENDPOINTS = 5\n",
    "MIN_HITS = 3\n",
    "\n",
    "# get emg ending activity means over hit trials for each target\n",
    "hit_ends = {}\n",
    "for subject in c.alphabetically_sorted_subjects():\n",
    "    hit_ends[subject.name] = []\n",
    "    # targets\n",
    "    for target_idx in range(1,13):\n",
    "        target_hit_ends = []\n",
    "        # trials\n",
    "        for session in list(subject.tasks[task_name].sorted_sessions()):\n",
    "            for trial in session.sorted_trials():\n",
    "                # only hits on that target\n",
    "                if trial.target_number == target_idx:\n",
    "                    if trial.outcome == \"Hit\":\n",
    "                        target_hit_ends.append(np.mean(trial.get_filtered_emg()[-NUM_ENDPOINTS:,:], axis=0))\n",
    "        # all the end activity for this target's hits\n",
    "        # this might be empty if there are no hits on that target in the whole session\n",
    "        # in this case, we should put None and deal with it later\n",
    "        if len(target_hit_ends) > MIN_HITS:\n",
    "            hit_ends[subject.name].append(np.array(target_hit_ends))\n",
    "        else:\n",
    "            hit_ends[subject.name].append(None)"
   ]
  }
 ],
 "metadata": {
  "kernelspec": {
   "display_name": "data",
   "language": "python",
   "name": "python3"
  },
  "language_info": {
   "codemirror_mode": {
    "name": "ipython",
    "version": 3
   },
   "file_extension": ".py",
   "mimetype": "text/x-python",
   "name": "python",
   "nbconvert_exporter": "python",
   "pygments_lexer": "ipython3",
   "version": "3.11.4"
  }
 },
 "nbformat": 4,
 "nbformat_minor": 2
}
