{
 "cells": [
  {
   "cell_type": "code",
   "execution_count": 3,
   "id": "e277d287-0fd0-4ab3-a2e6-96ecdb5d137b",
   "metadata": {
    "tags": []
   },
   "outputs": [],
   "source": [
    "import sys\n",
    "if not '..' in sys.path:\n",
    "    sys.path.append('..')\n",
    "\n",
    "from pathlib import Path\n",
    "from analysis import files, emg, analysis, collection\n",
    "import numpy as np\n",
    "from scipy.spatial import distance\n",
    "import matplotlib.pyplot as plt\n",
    "from scipy.optimize import curve_fit\n",
    "%matplotlib inline\n",
    "\n",
    "image_path = Path(\"/Users/spencer/phd/phd/images/\")\n",
    "\n",
    "import matplotlib as mpl\n",
    "mpl.rcParams.update({'axes.labelsize': 16})"
   ]
  },
  {
   "cell_type": "markdown",
   "id": "1536b5a8",
   "metadata": {},
   "source": [
    "todo\n",
    "- think about the lag from movement to on screen -- what makes this up? \n",
    "- order subjects by variance ratio mean-- can we group them? do they cluster? No\n",
    "- look at only the last N blocks for means-- do we get subject grouping now? No\n",
    "\n",
    "\n",
    "theory\n",
    "- based on the variance ratio results, we think (most?) people aren't internalizing the decoder, we don't see a reduction in variance in the task space\n",
    "- people aren't honing a flexible strategy because they don't seem to be \"finding\" the decoder\n",
    "- this leads us to think that people are learning rote movements, they're not learning the decoder directly \n",
    "- we don't see people honing the decoder, as theyre disregarding the null space. \n",
    "\n",
    "predictions / hypotheses\n",
    "- do we see evidence that people are using memory of rote movements to succeed in the task?\n",
    "- do we see correlations between past hits and future hits? \n",
    "- do early successful trials correlate strongly with later trials? regardless of the null space?\n",
    "- if we see repetition across trials in the null space, people are likely learning rote movements!\n",
    "- are people making similar movements in the null space over trials?\n",
    "\n",
    "what does similar mean?\n",
    "- correlations in filtered EMG signals, being careful to avoid time shifting-- we need to convolve the signals and take the peak correlation? \n",
    "- PCA filtered EMG trials, look at correlations of the PCA components? This is just a filtering step, or...\n",
    "- we get fancy and PCA some concatenated signal, looking for trends in features? E.g. This feature is seen across trials in terms of the feature weights over trials\n",
    "\n"
   ]
  },
  {
   "cell_type": "code",
   "execution_count": 4,
   "id": "b2552fd9",
   "metadata": {},
   "outputs": [
    {
     "name": "stdout",
     "output_type": "stream",
     "text": [
      "46 subjects in emg_olympics.\n"
     ]
    }
   ],
   "source": [
    "collection_name = \"emg_olympics\"\n",
    "subject_names = collection.get_subject_names(collection_name)\n",
    "print(f\"{len(subject_names)} subjects in {collection_name}.\")\n",
    "c = collection.Collection(collection_name)"
   ]
  },
  {
   "cell_type": "code",
   "execution_count": 69,
   "id": "9bd6bd6e",
   "metadata": {},
   "outputs": [
    {
     "name": "stdout",
     "output_type": "stream",
     "text": [
      "session_44 11\n",
      "session_0 13\n"
     ]
    }
   ],
   "source": [
    "c = collection.Collection(\"emg_olympics\")\n",
    "subject_number = 1\n",
    "s = c.subjects[c.subject_names[subject_number]]\n",
    "trials = []\n",
    "for sesh in s.tasks[\"center_hold\"].sorted_sessions():\n",
    "    trials.extend(sesh.sorted_trials())\n",
    "target_number = 12\n",
    "\n",
    "first_hit_trial = None\n",
    "last_hit_trial = None\n",
    "for t in trials:\n",
    "    if t.target_number == target_number and t.outcome == \"Hit\":\n",
    "        first_hit_trial = t\n",
    "# print(first_hit_trial.session_name, first_hit_trial.number)\n",
    "\n",
    "for t in trials[::-1]:\n",
    "    if t.target_number == target_number and t.outcome == \"Hit\":\n",
    "        last_hit_trial = t\n",
    "# print(last_hit_trial.session_name, last_hit_trial.number)\n",
    "\n",
    "first_traj = first_hit_trial.get_trajectory()\n",
    "last_traj = last_hit_trial.get_trajectory()\n",
    "first_emg = first_hit_trial.get_filtered_emg()\n",
    "last_emg = last_hit_trial.get_filtered_emg()\n",
    "plt.plot(first_traj[:,-2],first_traj[:,-1])\n",
    "plt.plot(last_traj[:,-2],last_traj[:,-1])\n",
    "analysis.plot_targets(plt.gca())\n",
    "plt.xlim([-1,1])\n",
    "plt.ylim([-1,1])\n",
    "\n",
    "plt.figure()\n",
    "plt.plot(first_traj[:,-2])\n",
    "plt.plot(last_traj[:,-2])\n",
    "\n",
    "plt.figure()\n",
    "plt.plot(first_traj[:,-1])\n",
    "plt.plot(last_traj[:,-1])"
   ]
  },
  {
   "cell_type": "code",
   "execution_count": null,
   "id": "40ec55a9",
   "metadata": {},
   "outputs": [],
   "source": []
  }
 ],
 "metadata": {
  "kernelspec": {
   "display_name": "data",
   "language": "python",
   "name": "python3"
  },
  "language_info": {
   "codemirror_mode": {
    "name": "ipython",
    "version": 3
   },
   "file_extension": ".py",
   "mimetype": "text/x-python",
   "name": "python",
   "nbconvert_exporter": "python",
   "pygments_lexer": "ipython3",
   "version": "3.11.4"
  }
 },
 "nbformat": 4,
 "nbformat_minor": 5
}
