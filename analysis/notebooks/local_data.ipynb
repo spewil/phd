{
 "cells": [
  {
   "cell_type": "code",
   "execution_count": 1,
   "metadata": {},
   "outputs": [],
   "source": [
    "import sys\n",
    "if not '..' in sys.path:\n",
    "    sys.path.append('..')\n",
    "\n",
    "from pathlib import Path\n",
    "from analysis import files, analysis, collection\n",
    "import numpy as np\n",
    "from scipy.spatial import distance\n",
    "import matplotlib.pyplot as plt\n",
    "from scipy.optimize import curve_fit\n",
    "\n",
    "%matplotlib inline"
   ]
  },
  {
   "cell_type": "code",
   "execution_count": 2,
   "metadata": {},
   "outputs": [],
   "source": [
    "from pathlib import Path\n",
    "\n",
    "ROOT_RAWDATA_PATH = Path(\"/Users/spencer/motor-control/data/rawdata/\")\n",
    "ROOT_METADATA_PATH = Path(\"/Users/spencer/motor-control/data/metadata/\")\n",
    "\n",
    "collection_name = \"emg_olympics\"\n",
    "subject_name = \"peterv\"\n",
    "task_name = \"center_hold\"\n",
    "session_name = \"session_1\""
   ]
  },
  {
   "cell_type": "code",
   "execution_count": 3,
   "metadata": {},
   "outputs": [
    {
     "data": {
      "text/plain": [
       "46"
      ]
     },
     "execution_count": 3,
     "metadata": {},
     "output_type": "execute_result"
    }
   ],
   "source": [
    "len(list(x.stem for x in (ROOT_RAWDATA_PATH / collection_name).iterdir() if not \"DS_Store\" in x.name))\n",
    "# list(ROOT_METADATA_PATH.iterdir())"
   ]
  },
  {
   "cell_type": "code",
   "execution_count": 4,
   "metadata": {},
   "outputs": [
    {
     "data": {
      "text/plain": [
       "['calibration_bars', 'natural_movement', 'center_hold']"
      ]
     },
     "execution_count": 4,
     "metadata": {},
     "output_type": "execute_result"
    }
   ],
   "source": [
    "[p.stem for p in (ROOT_RAWDATA_PATH / collection_name / subject_name).iterdir() if not \"DS_Store\" in p.name]"
   ]
  },
  {
   "cell_type": "code",
   "execution_count": 5,
   "metadata": {},
   "outputs": [
    {
     "name": "stdout",
     "output_type": "stream",
     "text": [
      "/Users/spencer/motor-control/data/rawdata/emg_olympics/peterv/center_hold/session_1/session_result_2021-10-04T19_51_36.csv\n"
     ]
    }
   ],
   "source": [
    "directory = ROOT_RAWDATA_PATH / collection_name / subject_name / task_name / session_name\n",
    "prefix = f\"{ROOT_RAWDATA_PATH / collection_name / subject_name / task_name / session_name}/session_result_\"\n",
    "\n",
    "fcount = [f for f in directory.iterdir() if str(f).startswith(prefix)]\n",
    "print(fcount[0])"
   ]
  },
  {
   "cell_type": "code",
   "execution_count": 6,
   "metadata": {},
   "outputs": [
    {
     "name": "stdout",
     "output_type": "stream",
     "text": [
      "[('Miss', 0.7666667, 5.016667 , -0.87, -0.5 )\n",
      " ('Miss', 0.7666667, 5.016667 ,  0.  , -1.  )\n",
      " ('Miss', 0.7666667, 5.016667 , -0.5 , -0.87)\n",
      " ('Miss', 0.7666667, 5.016667 ,  0.87, -0.5 )\n",
      " ('Hit', 0.7666667, 0.8666667,  0.5 ,  0.87)\n",
      " ('Miss', 0.7666667, 5.016667 , -0.87,  0.5 )\n",
      " ('Miss', 0.95     , 5.016667 ,  0.5 , -0.87)\n",
      " ('Miss', 0.7666667, 5.016667 , -1.  ,  0.  )\n",
      " ('Hit', 1.116667 , 1.083333 , -0.5 ,  0.87)\n",
      " ('Miss', 0.7666667, 5.016667 ,  0.  ,  1.  )\n",
      " ('Hit', 2.783333 , 3.633333 ,  1.  ,  0.  )\n",
      " ('Hit', 1.066667 , 2.433333 ,  0.87,  0.5 )]\n"
     ]
    }
   ],
   "source": [
    "directory = ROOT_RAWDATA_PATH / collection_name / subject_name / task_name / session_name\n",
    "prefix = f\"{ROOT_RAWDATA_PATH / collection_name / subject_name / task_name / session_name}/session_result\"\n",
    "try:\n",
    "    outcome_path = [f for f in directory.iterdir() if str(f).startswith(prefix)][0]\n",
    "    # task_names = [p.stem for p in (ROOT_RAWDATA_PATH / collection_name / task_name / name / session_result_).iterdir() if not \"DS_Store\" in p.name]\n",
    "except IndexError:\n",
    "    raise ValueError(f\"No file found with prefix {prefix}\") \n",
    "behavior = np.genfromtxt(str(outcome_path), delimiter=\",\", skip_header=1, dtype=None, encoding=None)\n",
    "print(behavior)"
   ]
  },
  {
   "cell_type": "code",
   "execution_count": 7,
   "metadata": {},
   "outputs": [
    {
     "data": {
      "text/plain": [
       "[PosixPath('/Users/spencer/motor-control/data/rawdata/emg_olympics/peterv/center_hold/session_1/1_behavior_2021-10-04T19_51_46.csv')]"
      ]
     },
     "execution_count": 7,
     "metadata": {},
     "output_type": "execute_result"
    }
   ],
   "source": [
    "recorded_number = \"1\"\n",
    "directory = ROOT_RAWDATA_PATH / collection_name / subject_name / task_name / session_name \n",
    "prefix = f\"{ROOT_RAWDATA_PATH / collection_name / subject_name / task_name / session_name / recorded_number}_behavior_\"\n",
    "filename_list = [f for f in directory.iterdir() if str(f).startswith(prefix)]\n",
    "filename_list.sort()\n",
    "filename_list"
   ]
  },
  {
   "cell_type": "code",
   "execution_count": 10,
   "metadata": {},
   "outputs": [
    {
     "name": "stdout",
     "output_type": "stream",
     "text": [
      "[[1.66672000e-02 9.21776891e-03 3.71582806e-03]\n",
      " [1.66672000e-02 1.08617544e-02 3.28379869e-03]\n",
      " [1.66672000e-02 1.25864148e-02 2.89471447e-03]\n",
      " ...\n",
      " [5.75601120e+00 5.84854364e-01 7.10846961e-01]\n",
      " [5.77267890e+00 6.00339770e-01 7.22643018e-01]\n",
      " [5.77267890e+00 6.15862608e-01 7.32895553e-01]]\n"
     ]
    }
   ],
   "source": [
    "s = collection.Session(collection_name, subject_name, task_name, \"session_1\")\n",
    "print(list(s.trials.values())[0].get_trajectory())"
   ]
  },
  {
   "cell_type": "code",
   "execution_count": 12,
   "metadata": {},
   "outputs": [],
   "source": [
    "no_hold_number = 0\n",
    "directory = ROOT_RAWDATA_PATH / collection_name / subject_name / task_name / session_name \n",
    "prefix = f\"{ROOT_RAWDATA_PATH / collection_name / subject_name / task_name / session_name / str(recorded_number)}_emg_2021\"\n",
    "filename_list = [f for f in directory.iterdir() if str(f).startswith(prefix)]\n",
    "filename_list.sort()\n",
    "fname = filename_list[no_hold_number]"
   ]
  }
 ],
 "metadata": {
  "kernelspec": {
   "display_name": "data",
   "language": "python",
   "name": "python3"
  },
  "language_info": {
   "codemirror_mode": {
    "name": "ipython",
    "version": 3
   },
   "file_extension": ".py",
   "mimetype": "text/x-python",
   "name": "python",
   "nbconvert_exporter": "python",
   "pygments_lexer": "ipython3",
   "version": "3.11.4"
  },
  "orig_nbformat": 4
 },
 "nbformat": 4,
 "nbformat_minor": 2
}
