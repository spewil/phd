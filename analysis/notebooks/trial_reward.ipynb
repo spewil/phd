{
 "cells": [
  {
   "cell_type": "code",
   "execution_count": 1,
   "metadata": {},
   "outputs": [
    {
     "name": "stderr",
     "output_type": "stream",
     "text": [
      "/home/spencer/miniconda3/envs/data/lib/python3.12/site-packages/dask/dataframe/_pyarrow_compat.py:23: UserWarning: You are using pyarrow version 11.0.0 which is known to be insecure. See https://www.cve.org/CVERecord?id=CVE-2023-47248 for further details. Please upgrade to pyarrow>=14.0.1 or install pyarrow-hotfix to patch your current version.\n",
      "  warnings.warn(\n",
      "/home/spencer/miniconda3/envs/data/lib/python3.12/site-packages/tqdm/auto.py:21: TqdmWarning: IProgress not found. Please update jupyter and ipywidgets. See https://ipywidgets.readthedocs.io/en/stable/user_install.html\n",
      "  from .autonotebook import tqdm as notebook_tqdm\n"
     ]
    }
   ],
   "source": [
    "import sys\n",
    "if not '..' in sys.path:\n",
    "    sys.path.append('..')\n",
    "%matplotlib inline\n",
    "import numpy as np\n",
    "from matplotlib import pyplot as plt\n",
    "from matplotlib import colormaps\n",
    "from analysis import collection, analysis, emg\n",
    "import scipy as sp\n",
    "import pandas as pd\n",
    "import swifter\n",
    "\n",
    "from tqdm import tqdm\n",
    "tqdm.pandas()\n",
    "\n",
    "from swifter import set_defaults\n",
    "set_defaults(\n",
    "    npartitions=12,\n",
    "    dask_threshold=2,\n",
    "    scheduler=\"processes\",\n",
    "    progress_bar=True,\n",
    "    progress_bar_desc=None,\n",
    "    allow_dask_on_strings=False,\n",
    "    force_parallel=True,\n",
    ")"
   ]
  },
  {
   "cell_type": "code",
   "execution_count": 2,
   "metadata": {},
   "outputs": [
    {
     "name": "stdout",
     "output_type": "stream",
     "text": [
      "(49680000,)\n",
      "(46, 45, 12, 2000, 2)\n",
      "(7989403, 2)\n"
     ]
    }
   ],
   "source": [
    "channels = np.arange(2)\n",
    "n_timepoints = 2000\n",
    "timepoints = np.arange(n_timepoints)\n",
    "n_targets = 12\n",
    "target_numbers = range(1,n_targets+1)\n",
    "n_blocks = 45\n",
    "blocks = range(n_blocks)\n",
    "n_subjects = 46\n",
    "subjects = range(n_subjects)\n",
    "\n",
    "multi_index = pd.MultiIndex.from_product([subjects,blocks,target_numbers,timepoints],names=[\"subject\",\"block\",\"target\",\"time\"])\n",
    "print(multi_index.shape)\n",
    "subject_traj_stacks = np.load(\"subject_filtered_trajectory_stacks.npy\").transpose(0,1,2,4,3)\n",
    "print(subject_traj_stacks.shape)\n",
    "df = pd.DataFrame(subject_traj_stacks.reshape(-1,2),index=multi_index,columns=channels).dropna()\n",
    "del subject_traj_stacks\n",
    "print(df.shape)"
   ]
  },
  {
   "cell_type": "code",
   "execution_count": 3,
   "metadata": {},
   "outputs": [],
   "source": [
    "# make everything numpy for HUGE speedups!\n",
    "target_vecs = np.array([collection.compute_target_vec_from_number(target_number) for target_number in range(1,13)])\n",
    "\n",
    "def compute_reward(row):\n",
    "    return np.linalg.norm(row.to_numpy() - target_vecs[row.name[2] - 1])"
   ]
  },
  {
   "cell_type": "code",
   "execution_count": 4,
   "metadata": {},
   "outputs": [
    {
     "name": "stderr",
     "output_type": "stream",
     "text": [
      "Pandas Apply: 100%|██████████| 7989403/7989403 [01:07<00:00, 118326.73it/s]\n",
      "/tmp/ipykernel_14632/3822169844.py:1: SettingWithCopyWarning: \n",
      "A value is trying to be set on a copy of a slice from a DataFrame.\n",
      "Try using .loc[row_indexer,col_indexer] = value instead\n",
      "\n",
      "See the caveats in the documentation: https://pandas.pydata.org/pandas-docs/stable/user_guide/indexing.html#returning-a-view-versus-a-copy\n",
      "  df[\"reward\"] = df.swifter.apply(compute_reward,axis='columns',result_type=\"expand\")\n"
     ]
    }
   ],
   "source": [
    "df[\"reward\"] = df.swifter.apply(compute_reward,axis='columns',result_type=\"expand\")"
   ]
  },
  {
   "cell_type": "code",
   "execution_count": 16,
   "metadata": {},
   "outputs": [],
   "source": [
    "subject_means = df.groupby(level=[\"subject\"]).mean()[\"reward\"].to_numpy()"
   ]
  },
  {
   "cell_type": "code",
   "execution_count": 17,
   "metadata": {},
   "outputs": [
    {
     "data": {
      "text/plain": [
       "array([0.73099753, 0.91790218, 1.07413579, 0.83975535, 1.64866241,\n",
       "       1.10260095, 0.64802526, 1.17657013, 1.1124183 , 1.06453238,\n",
       "       0.98989446, 0.73068902, 1.31006926, 1.14054334, 0.87087456,\n",
       "       0.83560084, 0.74009076, 0.81439326, 0.91261121, 1.10256106,\n",
       "       1.31260078, 0.8731727 , 0.76335023, 2.03272531, 0.83820096,\n",
       "       1.20565439, 1.47434129, 0.94514226, 1.10814163, 0.51741588,\n",
       "       0.91681046, 0.95579013, 0.82276626, 0.82240779, 1.49835347,\n",
       "       0.7867887 , 0.78904761, 0.70650151, 1.13983938, 1.31562858,\n",
       "       0.9062382 , 0.86533955, 0.92182935, 1.01408642, 1.00768263,\n",
       "       1.20706692])"
      ]
     },
     "execution_count": 17,
     "metadata": {},
     "output_type": "execute_result"
    }
   ],
   "source": [
    "subject_means"
   ]
  },
  {
   "cell_type": "code",
   "execution_count": 19,
   "metadata": {},
   "outputs": [
    {
     "data": {
      "text/plain": [
       "array([29,  6, 37, 11,  0, 16, 22, 35, 36, 17, 33, 32, 15, 24,  3, 41, 14,\n",
       "       21, 40, 18, 30,  1, 42, 27, 31, 10, 44, 43,  9,  2, 19,  5, 28,  8,\n",
       "       38, 13,  7, 25, 45, 12, 20, 39, 26, 34,  4, 23])"
      ]
     },
     "execution_count": 19,
     "metadata": {},
     "output_type": "execute_result"
    }
   ],
   "source": [
    "np.argsort(subject_means**-1)[::-1]"
   ]
  },
  {
   "cell_type": "code",
   "execution_count": 20,
   "metadata": {},
   "outputs": [],
   "source": [
    "df.to_pickle(\"trajectory_dataframe.pkl\")"
   ]
  },
  {
   "cell_type": "code",
   "execution_count": 21,
   "metadata": {},
   "outputs": [],
   "source": [
    "np.save(\"subject_rewards.npy\",subject_means**-1)"
   ]
  },
  {
   "cell_type": "code",
   "execution_count": null,
   "metadata": {},
   "outputs": [],
   "source": []
  }
 ],
 "metadata": {
  "kernelspec": {
   "display_name": "data",
   "language": "python",
   "name": "python3"
  },
  "language_info": {
   "codemirror_mode": {
    "name": "ipython",
    "version": 3
   },
   "file_extension": ".py",
   "mimetype": "text/x-python",
   "name": "python",
   "nbconvert_exporter": "python",
   "pygments_lexer": "ipython3",
   "version": "3.12.1"
  }
 },
 "nbformat": 4,
 "nbformat_minor": 2
}
