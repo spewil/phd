{
 "cells": [
  {
   "cell_type": "code",
   "execution_count": 1,
   "id": "1871afb6",
   "metadata": {},
   "outputs": [],
   "source": [
    "import sys\n",
    "if not '..' in sys.path:\n",
    "    sys.path.append('..')"
   ]
  },
  {
   "cell_type": "code",
   "execution_count": 2,
   "id": "40eca4f0-5f49-4c90-8031-0df737d137ff",
   "metadata": {},
   "outputs": [],
   "source": [
    "from analysis import collection, analysis\n",
    "\n",
    "from pathlib import Path\n",
    "\n",
    "import numpy as np\n",
    "import scipy\n",
    "from analysis import analysis\n",
    "import matplotlib.pyplot as plt\n",
    "from matplotlib import animation\n",
    "from matplotlib.collections import LineCollection\n",
    "from matplotlib.colors import to_rgba\n",
    "from IPython.display import HTML\n",
    "\n",
    "from matplotlib.gridspec import GridSpec\n",
    "\n",
    "import matplotlib as mpl\n",
    "mpl.rcParams.update({'axes.labelsize': 16})\n",
    "\n",
    "%matplotlib inline\n",
    "\n",
    "image_path = Path(\"/Users/spencer/phd/phd/images/\")"
   ]
  },
  {
   "cell_type": "code",
   "execution_count": 3,
   "id": "c4db62dd",
   "metadata": {},
   "outputs": [],
   "source": [
    "collection_name = \"emg_olympics\"\n",
    "task_name = \"center_hold\"\n",
    "c = collection.Collection(collection_name)\n",
    "subjects = c.alphabetically_sorted_subjects()"
   ]
  },
  {
   "cell_type": "markdown",
   "id": "0b9db921",
   "metadata": {},
   "source": [
    "## inspect natural data"
   ]
  },
  {
   "cell_type": "code",
   "execution_count": null,
   "id": "65e8b446",
   "metadata": {},
   "outputs": [],
   "source": [
    "### load one trial of natural movement data\n",
    "\n",
    "filenames = get_movement_filenames(\"emg_olympics\", test_subject.name, \"natural_movement\", \"session_0\")\n",
    "emg = load_movement_emg(filenames[6])\n",
    "filtered = filter_emg(emg, test_subject.variance)\n",
    "indices, low_point, mean_norm_threshold = find_nat_movement_active_indices(filtered)\n",
    "# 1000, 64\n",
    "X = filtered[indices]\n",
    "# 1000, 2\n",
    "projected_movement = X @ test_subject.decoder[-2:,:].T\n",
    "\n",
    "\n",
    "### trial data\n",
    "\n",
    "trial = test_subject.tasks[task_name].sorted_sessions()[0].sorted_trials()[4]\n",
    "X = trial.get_filtered_emg()[trial.active_indices]\n",
    "T = X @ test_subject.decoder[-2:,:].T\n",
    "\n",
    "print(projected_movement.shape, T.shape)\n"
   ]
  },
  {
   "cell_type": "markdown",
   "id": "03e32735",
   "metadata": {},
   "source": [
    "## make natural movement data brick over subjects"
   ]
  },
  {
   "cell_type": "code",
   "execution_count": null,
   "id": "23796fc0",
   "metadata": {},
   "outputs": [],
   "source": [
    "# subject_movement_stacks = np.load(\"subject_natural_movement_stacks.npy\")\n",
    "# subject_movement_stacks.shape\n",
    "\n",
    "def find_nat_movement_active_indices(sig, std_multiple=1.0, min_indices=10):\n",
    "    assert sig.shape[1] == 64\n",
    "    sig_norms = np.linalg.norm(sig,axis=1)\n",
    "\n",
    "    # find location of min trajectory norm (closest to zero)\n",
    "    low_point = np.argmin(sig_norms)\n",
    "\n",
    "    # stddev of the spatial norms\n",
    "    sig_norm_std = np.std(sig_norms)\n",
    "\n",
    "    # compute the threshold, mean of a short range around the low point\n",
    "    mean_norm_threshold = np.mean(\n",
    "        sig_norms[np.max([0, low_point - 5]) : low_point + 5], axis=0\n",
    "    )\n",
    "\n",
    "    # mask -- one std above the lowest norm point\n",
    "    mask = sig_norms > mean_norm_threshold + sig_norm_std * std_multiple\n",
    "\n",
    "    # return the indices\n",
    "    if np.sum(mask) < min_indices:\n",
    "        indices = np.arange(sig.shape[0])[-min_indices:]\n",
    "    else:\n",
    "        indices = np.arange(sig.shape[0])[mask]\n",
    "    return indices, low_point, mean_norm_threshold\n",
    "\n",
    "\n",
    "def load_jagged_movement_stack(subject):\n",
    "\n",
    "    # more than enough room for the active indices\n",
    "    movement_emg = np.empty(shape=(2,1500,64))\n",
    "    movement_emg[:] = np.nan\n",
    "\n",
    "    for session_idx, session_name in enumerate([\"session_0\", \"session_1\"]):\n",
    "        filenames = get_movement_filenames(\"emg_olympics\", subject.name, \"natural_movement\", session_name)\n",
    "        for movement_idx, filename in enumerate(filenames):\n",
    "            emg = load_movement_emg(filename)\n",
    "            filtered = emg.filter_emg(emg, subject.variance)\n",
    "            indices, low_point, mean_norm_threshold = find_nat_movement_active_indices(filtered)\n",
    "            movement_emg[session_idx,:indices.shape[0],:] = filtered[indices]\n",
    "\n",
    "    return movement_emg\n",
    "\n",
    "natural_movement_stack = load_jagged_movement_stack(test_subject)\n",
    "print(natural_movement_stack.shape)\n",
    "\n"
   ]
  },
  {
   "cell_type": "markdown",
   "id": "97e40744",
   "metadata": {},
   "source": [
    "## save it to disk!"
   ]
  },
  {
   "cell_type": "code",
   "execution_count": null,
   "id": "3f78b2b9",
   "metadata": {},
   "outputs": [],
   "source": []
  }
 ],
 "metadata": {
  "kernelspec": {
   "display_name": "Python 3",
   "language": "python",
   "name": "python3"
  },
  "language_info": {
   "codemirror_mode": {
    "name": "ipython",
    "version": 3
   },
   "file_extension": ".py",
   "mimetype": "text/x-python",
   "name": "python",
   "nbconvert_exporter": "python",
   "pygments_lexer": "ipython3",
   "version": "3.11.4"
  }
 },
 "nbformat": 4,
 "nbformat_minor": 5
}
