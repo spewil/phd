{
 "cells": [
  {
   "cell_type": "code",
   "execution_count": 1,
   "id": "1871afb6",
   "metadata": {},
   "outputs": [],
   "source": [
    "import sys\n",
    "if not '..' in sys.path:\n",
    "    sys.path.append('..')"
   ]
  },
  {
   "cell_type": "code",
   "execution_count": 2,
   "id": "40eca4f0-5f49-4c90-8031-0df737d137ff",
   "metadata": {},
   "outputs": [],
   "source": [
    "from analysis import collection, analysis\n",
    "\n",
    "from pathlib import Path\n",
    "\n",
    "import numpy as np\n",
    "import scipy\n",
    "from analysis import analysis\n",
    "import matplotlib.pyplot as plt\n",
    "from matplotlib import animation\n",
    "from matplotlib.collections import LineCollection\n",
    "from matplotlib.colors import to_rgba\n",
    "from IPython.display import HTML\n",
    "\n",
    "from matplotlib.gridspec import GridSpec\n",
    "\n",
    "import matplotlib as mpl\n",
    "mpl.rcParams.update({'axes.labelsize': 16})\n",
    "\n",
    "%matplotlib inline\n",
    "\n",
    "image_path = Path(\"/Users/spencer/phd/phd/images/\")"
   ]
  },
  {
   "cell_type": "code",
   "execution_count": 5,
   "id": "c4db62dd",
   "metadata": {},
   "outputs": [],
   "source": [
    "collection_name = \"emg_olympics\"\n",
    "task_name = \"center_hold\"\n",
    "c = collection.Collection(collection_name)\n",
    "subjects = c.alphabetically_sorted_subjects()"
   ]
  },
  {
   "cell_type": "code",
   "execution_count": null,
   "id": "b95c1e6a",
   "metadata": {},
   "outputs": [],
   "source": [
    "def count_nan(data):\n",
    "    return np.count_nonzero(np.isnan(data))\n",
    "\n",
    "max_traj_len = 0\n",
    "for subject in subjects:\n",
    "    for session in subject.tasks[task_name].sorted_sessions():\n",
    "        for trial in session.sorted_trials():\n",
    "            hold_steps = int(200*trial.hold_time)\n",
    "            traj = trial.get_trajectory()[hold_steps:,:]\n",
    "            if traj.shape[0] > max_len:\n",
    "                max_len = traj.shape[0]\n",
    "print(\"Max trajectory length: \" , max_len)\n",
    "\n",
    "x = np.arange(0,max_len)\n",
    "interp_traj_stack = np.empty(shape=(len(subjects), 15, 12, max_len, 2))\n",
    "interp_traj_stack[:] = np.nan\n",
    "for subject_idx, subject in enumerate(subjects):\n",
    "    for session_idx, session in enumerate(subject.tasks[task_name].sorted_sessions()[:15]):\n",
    "        for target_idx in range(1,13):\n",
    "            for trial_idx, trial in enumerate(session.sorted_trials()):\n",
    "                if trial.outcome != \"No Hold\" and trial.target_number == target_idx:\n",
    "                    hold_steps = int(200*trial.hold_time)\n",
    "                    traj = trial.get_trajectory()[hold_steps:,:]\n",
    "                    if traj.shape[0] < max_len:\n",
    "                        interp_traj_stack[subject_idx, session_idx, target_idx-1, :, :] = interp_trajectory(x,traj[:,:])\n",
    "                    else:\n",
    "                        interp_traj_stack[subject_idx, session_idx, target_idx-1, :, :] = traj[:,:]\n",
    "\n",
    "print(interp_traj_stack.shape)\n",
    "print(count_nan(interp_traj_stack))"
   ]
  }
 ],
 "metadata": {
  "kernelspec": {
   "display_name": "Python 3",
   "language": "python",
   "name": "python3"
  },
  "language_info": {
   "codemirror_mode": {
    "name": "ipython",
    "version": 3
   },
   "file_extension": ".py",
   "mimetype": "text/x-python",
   "name": "python",
   "nbconvert_exporter": "python",
   "pygments_lexer": "ipython3",
   "version": "3.11.4"
  }
 },
 "nbformat": 4,
 "nbformat_minor": 5
}
