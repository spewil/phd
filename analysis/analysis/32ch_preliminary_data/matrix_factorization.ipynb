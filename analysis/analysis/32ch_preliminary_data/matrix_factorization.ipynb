{
 "cells": [
  {
   "cell_type": "markdown",
   "metadata": {},
   "source": [
    "# orthogonal NMF"
   ]
  },
  {
   "cell_type": "code",
   "execution_count": 6,
   "metadata": {},
   "outputs": [],
   "source": [
    "import numpy as np\n",
    "import scipy as sp"
   ]
  },
  {
   "cell_type": "code",
   "execution_count": 375,
   "metadata": {},
   "outputs": [
    {
     "name": "stdout",
     "output_type": "stream",
     "text": [
      "(10, 10) (10, 10) (10, 10)\n",
      "[[100  99  98  97  96  95  94  93  92  91]\n",
      " [ 90  89  88  87  86  85  84  83  82  81]\n",
      " [ 80  79  78  77  76  75  74  73  72  71]\n",
      " [ 70  69  68  67  66  65  64  63  62  61]\n",
      " [ 60  59  58  57  56  55  54  53  52  51]\n",
      " [ 50  49  48  47  46  45  44  43  42  41]\n",
      " [ 40  39  38  37  36  35  34  33  32  31]\n",
      " [ 30  29  28  27  26  25  24  23  22  21]\n",
      " [ 20  19  18  17  16  15  14  13  12  11]\n",
      " [ 10   9   8   7   6   5   4   3   2   1]]\n"
     ]
    }
   ],
   "source": [
    "r = 10\n",
    "c = 10\n",
    "l = 2\n",
    "X = np.array([i+1 for i in range(r*c)[::-1]]).reshape(r,c)\n",
    "U,s,V = np.linalg.svd(X)\n",
    "E = np.pad(np.diag(s),((0,U.shape[1] - len(E)),(0,0)))\n",
    "print(U.shape,E.shape,V.shape)\n",
    "print(X)\n",
    "# print(U.dot(E).dot(V.T))"
   ]
  },
  {
   "cell_type": "code",
   "execution_count": 376,
   "metadata": {},
   "outputs": [
    {
     "name": "stdout",
     "output_type": "stream",
     "text": [
      "[5.81505563e+02 1.41873105e+01 3.41801612e-14 9.75747915e-15\n",
      " 7.53192786e-15 5.38105033e-15 3.24735195e-15 6.10581788e-16\n",
      " 1.55239728e-16 3.21107193e-17]\n"
     ]
    }
   ],
   "source": [
    "print(s)"
   ]
  },
  {
   "cell_type": "code",
   "execution_count": 377,
   "metadata": {},
   "outputs": [
    {
     "name": "stdout",
     "output_type": "stream",
     "text": [
      "(10, 10) (10, 2) (2, 10)\n"
     ]
    }
   ],
   "source": [
    "A = np.abs(U[:,:l])*np.sqrt(s[0])\n",
    "S = V[:l]\n",
    "print(X.shape,A.shape,S.shape)"
   ]
  },
  {
   "cell_type": "code",
   "execution_count": 381,
   "metadata": {},
   "outputs": [
    {
     "name": "stdout",
     "output_type": "stream",
     "text": [
      "[74485.17393857 66693.30702112 59149.79012068 52059.03911654\n",
      " 44969.12283439 37879.3510542  30261.10944839 21801.65931694\n",
      " 13342.20918477  4882.75905261]\n"
     ]
    }
   ],
   "source": [
    "# print(A.dot(S))\n",
    "for _ in range(10000):\n",
    "        S = np.multiply(S, \n",
    "                        np.divide(A.T.dot(X), \n",
    "                                  A.T.dot(A).dot(S)))\n",
    "#     A = np.multiply(A, \n",
    "#                     np.divide(X.dot(S.T),\n",
    "#                               A.dot(S).dot(X.T).dot(A)))\n",
    "        A = np.multiply(A, \n",
    "                        np.divide(X.dot(S.T),\n",
    "                                  A.dot(A.T).dot(X).dot(S.T)))\n",
    "print(A.dot(S)[:,0])"
   ]
  },
  {
   "cell_type": "code",
   "execution_count": 365,
   "metadata": {},
   "outputs": [
    {
     "data": {
      "text/plain": [
       "array([[ 6.47752754e-001,  1.62344221e-003],\n",
       "       [ 5.76150799e-001,  9.65511817e-003],\n",
       "       [ 4.87552272e-001,  5.40087154e-002],\n",
       "       [ 3.67486651e-001,  1.65613545e-001],\n",
       "       [ 2.20632436e-001,  3.34441366e-001],\n",
       "       [ 8.60055677e-002,  4.77153490e-001],\n",
       "       [ 2.26215541e-004,  5.15729965e-001],\n",
       "       [ 8.12233866e-014,  3.71916172e-001],\n",
       "       [ 1.16944093e-035,  2.27619878e-001],\n",
       "       [-4.60156725e-134,  8.33235842e-002]])"
      ]
     },
     "execution_count": 365,
     "metadata": {},
     "output_type": "execute_result"
    }
   ],
   "source": [
    "np.add(A,0)"
   ]
  },
  {
   "cell_type": "code",
   "execution_count": 357,
   "metadata": {},
   "outputs": [
    {
     "name": "stdout",
     "output_type": "stream",
     "text": [
      "[[-0.51952884 -0.27485329]\n",
      " [-0.46519818 -0.17909635]\n",
      " [-0.41086752 -0.08333941]\n",
      " [-0.35653686  0.01241753]\n",
      " [-0.3022062   0.10817447]\n",
      " [-0.24787554  0.20393141]\n",
      " [-0.19354488  0.29968835]\n",
      " [-0.13921422  0.39544529]\n",
      " [-0.08488356  0.49120223]\n",
      " [-0.0305529   0.58695917]]\n"
     ]
    }
   ],
   "source": [
    "print(U[:,:l])"
   ]
  },
  {
   "cell_type": "code",
   "execution_count": 190,
   "metadata": {},
   "outputs": [
    {
     "name": "stdout",
     "output_type": "stream",
     "text": [
      "-1.214306433183765e-16\n",
      "0.9999999999999993\n"
     ]
    }
   ],
   "source": [
    "print(U[:,0].T.dot(U[:,1]))\n",
    "print(U[:,0].T.dot(U[:,0]))"
   ]
  },
  {
   "cell_type": "code",
   "execution_count": 191,
   "metadata": {},
   "outputs": [
    {
     "data": {
      "text/plain": [
       "array([[-0.33721994, -0.33249014, -0.32776033, -0.32303052, -0.31830072,\n",
       "        -0.31357091, -0.3088411 , -0.3041113 , -0.29938149, -0.29465169],\n",
       "       [ 0.48139096,  0.37139623,  0.2614015 ,  0.15140676,  0.04141203,\n",
       "        -0.0685827 , -0.17857743, -0.28857216, -0.3985669 , -0.50856163]])"
      ]
     },
     "execution_count": 191,
     "metadata": {},
     "output_type": "execute_result"
    }
   ],
   "source": [
    "S[:l]\n",
    "V[:l]"
   ]
  },
  {
   "cell_type": "markdown",
   "metadata": {},
   "source": [
    "### algorithm for orthonormal NMF"
   ]
  },
  {
   "cell_type": "code",
   "execution_count": null,
   "metadata": {},
   "outputs": [],
   "source": [
    "[U,S,V] =psvd(A,k)\n",
    "W(:,1) =sqrt(S(1,1))∗U(:,1) and \n",
    "H(1,:) =sqrt(S(1,1))∗V(:,1)' \n",
    "for j in range(2,k): \n",
    "    3.x=U(:,j);\n",
    "        y=V(:,j);\n",
    "    4.x p=pos(x);\n",
    "        xn=neg(x);\n",
    "        y p=pos(y);\n",
    "        yn=neg(y);\n",
    "    5.x pnrm=norm(x p);\n",
    "        ypnrm=norm(yp);\n",
    "        mp=xpnrm*ypnrm;\n",
    "    6.xnnrm=norm(xn);\n",
    "        ynnrm=norm(yn);\n",
    "        mn=xnnrm*ynnrm;\n",
    "    7.if mp>mn:\n",
    "            u=x p/xpnrm;\n",
    "            v=yp/ypnrm;\n",
    "            sigma=mp;\n",
    "        else\n",
    "            u=xn/xnnrm;\n",
    "            v=yn/ynnrm;\n",
    "            sigma=mn;\n",
    "    8.W(:,j)=sqrt(S(j,j)*sigma)*u  \n",
    "        H(j,:)=sqrt(S(j,j)∗sigma)∗v'"
   ]
  },
  {
   "cell_type": "code",
   "execution_count": 14,
   "metadata": {},
   "outputs": [
    {
     "data": {
      "text/plain": [
       "((10, 10),\n",
       " (10, 5),\n",
       " array([[-3.65678305e-01, -1.19054026e-01,  2.73671932e-01,\n",
       "          1.51252901e-02,  6.22191621e-02],\n",
       "        [-2.16018431e-01, -3.64573047e-01, -2.65867061e-01,\n",
       "         -1.37290619e-01, -2.53521456e-01],\n",
       "        [-3.65071066e-01,  2.82124611e-01, -1.94685646e-01,\n",
       "         -9.14122360e-02, -3.13954098e-02],\n",
       "        [-1.48981778e-01, -5.48583662e-01,  2.48347771e-01,\n",
       "         -2.33791512e-01, -2.65770298e-04],\n",
       "        [-4.66417529e-02, -3.69640244e-02, -6.55204170e-01,\n",
       "         -1.53934117e-01, -5.15728646e-01],\n",
       "        [-3.35003659e-01,  2.37602203e-01, -2.74437328e-01,\n",
       "         -3.30778013e-01,  5.31866421e-01],\n",
       "        [-1.38312462e-01, -3.05636511e-01,  1.69088332e-01,\n",
       "         -5.72530317e-01, -1.17820415e-02],\n",
       "        [-3.51301459e-02, -5.46788678e-01, -4.03839066e-01,\n",
       "          4.96802054e-01,  4.42908683e-01],\n",
       "        [-5.50913117e-01,  2.73892616e-02,  2.36045444e-01,\n",
       "          4.56414232e-01, -3.87935463e-01],\n",
       "        [-4.75258172e-01,  1.46326510e-01, -5.32597867e-02,\n",
       "          4.33686693e-02,  1.87646311e-01]]),\n",
       " array([[ 1.38567506e-03, -8.51981690e-02,  1.03313881e-01,\n",
       "         -7.81948461e-01, -3.79119228e-01],\n",
       "        [ 1.24073691e-01, -9.93542622e-02, -7.97695570e-01,\n",
       "         -6.61345331e-02,  2.56484897e-02],\n",
       "        [-7.47084600e-01, -8.13731343e-03, -8.41373784e-02,\n",
       "          2.16958141e-01, -3.57117491e-01],\n",
       "        [-1.42830006e-01, -6.04542729e-01,  2.79012284e-01,\n",
       "          3.02242975e-01,  7.38528665e-02],\n",
       "        [ 1.02084720e-01, -5.87547997e-02,  4.77703125e-01,\n",
       "         -1.86901186e-01,  2.20954640e-02],\n",
       "        [ 5.02905899e-01, -1.52322213e-01,  3.56787186e-02,\n",
       "          1.90857102e-01, -2.23360936e-01],\n",
       "        [-3.20291274e-02,  7.11991669e-01,  1.23372894e-01,\n",
       "          8.35597241e-02,  2.78251909e-02],\n",
       "        [-1.21434346e-01,  2.35288384e-01,  1.13219635e-01,\n",
       "          3.89941998e-02, -9.63093123e-02],\n",
       "        [ 3.20234526e-01,  1.68478039e-01,  9.83439252e-02,\n",
       "          3.60045815e-01, -1.04784170e-01],\n",
       "        [-1.56237122e-01, -2.87948286e-04,  2.99455651e-02,\n",
       "         -1.90438773e-01,  8.06979463e-01]]),\n",
       " array([[-1.56661083, -1.52553745, -1.08016696, -1.20824135, -1.10315406],\n",
       "        [ 0.        , -1.26536095, -0.47174915, -0.74397294, -0.23651699],\n",
       "        [ 0.        ,  0.        , -0.94685448, -0.42911682, -0.28079836],\n",
       "        [ 0.        ,  0.        ,  0.        , -1.16685167,  0.28899922],\n",
       "        [ 0.        ,  0.        ,  0.        ,  0.        , -0.42226514],\n",
       "        [ 0.        ,  0.        ,  0.        ,  0.        ,  0.        ],\n",
       "        [ 0.        ,  0.        ,  0.        ,  0.        ,  0.        ],\n",
       "        [ 0.        ,  0.        ,  0.        ,  0.        ,  0.        ],\n",
       "        [ 0.        ,  0.        ,  0.        ,  0.        ,  0.        ],\n",
       "        [ 0.        ,  0.        ,  0.        ,  0.        ,  0.        ]]))"
      ]
     },
     "execution_count": 14,
     "metadata": {},
     "output_type": "execute_result"
    }
   ],
   "source": [
    "W = np.random.uniform(size=(10,5))\n",
    "Q,R = np.linalg.qr(W,mode='complete')\n",
    "Q.shape, R.shape, Q[:,:5], Q[:,5:], R"
   ]
  },
  {
   "cell_type": "markdown",
   "metadata": {},
   "source": [
    "## mapping\n",
    "\n",
    "let $y_t$ be an $n$-dimensional vector in task (output) space at time $t$ and $m_t$ be an $m$-dimensional muscle activation vector at time $t$ such that $m>n$, there are more electrodes than output dimensions. The mapping from electrodes to output is redundant and noninvertible.\n",
    "\n",
    "If we assume that the rows of the mapping from electrode to task space $M$ are orthonormal such that:\n",
    "\n",
    "$$\n",
    "\\begin{align}\n",
    "M_{n\\times m}M_{m\\times n}^T=\\mathbf{I_{n\\times n}}\n",
    "\\end{align}\n",
    "$$\n",
    "\n",
    "By constraining the mapping between task and electrode space $M$ to be orthonormal, this mapping won't scale the input variables\n",
    "\n",
    "$$\n",
    "\\begin{align}\n",
    "M &= U_{n\\times n}\\Sigma_{n\\times m} V_{m\\times m} \\\\\n",
    " &= \n",
    "\\begin{bmatrix}\n",
    "- v_1 - \\\\ \n",
    "\\vdots \\\\\n",
    "- v_n -\n",
    "\\end{bmatrix}\n",
    "\\end{align}\n",
    "$$"
   ]
  },
  {
   "cell_type": "markdown",
   "metadata": {},
   "source": [
    "# notes on covariance matrices (for multivariate time series)\n",
    "\n",
    "In general, the covariance matrix is the representation of the quadratic form $\\textrm{var}{\\langle\\beta,\\mathbf{X}\\rangle}$:\n",
    "\n",
    "\\begin{align}\n",
    "\\textrm{var} \\langle \\beta, X\\rangle &= var \\sum_{i=1}^d \\beta_i X_i \\\\\n",
    "&=  \\sum_{i=1}^d \\sum_{j=1}^d \\beta_i  \\beta_j\n",
    "cov( X_i ,X_j) \\\\\n",
    "&=  \\sum_{i=1}^d \\sum_{j=1}^d \\beta_i  \\beta_j\n",
    "\\Sigma_{i,j} \\\\\n",
    "&=  \\beta^T\\Sigma\\beta \\\\\n",
    "\\end{align}\n",
    "\n",
    "> All covariance matrices are positive definite and all positive definite matrices are the covariance matrix of some multivariate distribution. The sample covariance matrix is singular when there is collinearity between variables or when the number of observations is less than the number of variables.\n",
    "\n",
    "\n",
    "\n",
    "If we picture a normal distribution, $\\Sigma$ is the variance of each variable, and the quadratic form is the measure of how the variables in $\\beta$ covary with those in X. Each of the variables in $\\beta$ are scaled by the variance of those variables in the distribution induced by the covariance of $\\mathbf{X}$. \n",
    "\n",
    "## EMG data \n",
    "\n",
    "$\\mathbf{X}$ is an $m\\times t$ data matrix where $m$ is the number of electrodes or muscles, and $t$ is the number of time-ordered samples. $XX^T$ is thus the spatial covariance matrix. The sample spatial covariance is the average over time of the covariance between each electrode channel. Each element $(i,j)$ is the covaraiance of channel $i$ and channel $j$ averaged over all time points.\n",
    "\n",
    "The sample temporal covariance matrix $X^TX$ is the average over channels of the covariance between each time point. Each element $(i,j)$ in the $t\\times t$ matrix is the covariance between time point $i$ and $j$ over all channels.  \n",
    "\n",
    "$$\n",
    "\\begin{align}\n",
    "C_{t,{m\\times m}} &= X_tX_t^T \\,\\, \\textrm{for} \\,\\, X_t \\in \\mathbf{X} \\in \\mathbb{R}^{+}_{m\\times t} \\\\\n",
    "\\mathbf{C}_{m\\times m} & = \\frac{1}{t-1}\\Sigma_{t=1}^T X_tX_t^T = \\mathbf{X}\\mathbf{X}^T\n",
    "\\end{align}\n",
    "$$\n",
    "\n",
    "Denote the $i$th column of $X$ by $x_i$ and let let $\\hat{x_i}$ denote the projection of $x_i$ on  space spanned by $\\{x_j : j \\neq i \\}$. Call $\\epsilon_i = x_i - \\hat{x_i}.$ Not that if any $\\|\\epsilon_i\\|$ is \"small\", it suggests strong linear dependence among the columns of $X$\n",
    "\n",
    "One can prove the $ij$th element of $(X^TX)^{-1}$ is $$\\dfrac{\\epsilon_i^T\\epsilon_j}{\\|\\epsilon_i\\|^2\\|\\epsilon_j\\|^2}.$$\n",
    "\n",
    "# orthogonal matrices\n",
    "\n",
    "Orthogonal matrices correspond to linear transformations that preserve the length of vectors (isometries). And the composition of two isometries 𝐹 and 𝐺 is obviously also an isometry.\n",
    "\n",
    "The product of square orthogonal matrices is orthogonal:\n",
    "\n",
    "$$\\begin{align}\n",
    "A A^T &= I \\\\\n",
    "B B^T &= I \\\\\n",
    "(A B)(A B)^T &= ABB^TA^T\n",
    "&= I\\\\\n",
    "\\end{align}$$\n",
    "\n",
    "if\n",
    "$$\n",
    "\\begin{equation}\n",
    "XX^T = I\n",
    "\\end{equation}\n",
    "$$\n",
    "then\n",
    "$$\n",
    "\\begin{align}\n",
    "X &= U\\Sigma V^T \\\\\n",
    "X &= U\\\\\n",
    "\\end{align}\n",
    "$$\n",
    "\n",
    "For rectangular matrices where $m>n$, those with orthonormal columns:\n",
    "\n",
    "$$\n",
    "\\begin{align*}\n",
    "Q^TQ_{m\\times n} = \\mathbb{I}\n",
    "\\end{align*}\n",
    "$$\n",
    "\n",
    "and those with orthonormal rows:\n",
    "\n",
    "$$\n",
    "\\begin{align*}\n",
    "QQ^T = \\mathbb{I}\n",
    "\\end{align*}\n",
    "$$"
   ]
  },
  {
   "cell_type": "code",
   "execution_count": null,
   "metadata": {},
   "outputs": [],
   "source": [
    "# Generating orthogonal matrices using QR\n",
    "\n",
    "import numpy as np\n",
    "m = 10\n",
    "n = 2\n",
    "a = np.random.normal(0,1,size=(m, m))\n",
    "u = np.random.normal(0,1,size=(n, n))\n",
    "u = np.linalg.qr(u)[0]\n",
    "# throw away extra columns\n",
    "a = np.linalg.qr(a)[0][:,:n].T\n",
    "# a has orthonormal rows\n",
    "print(a.shape,u.shape)\n",
    "print(\"AA^T\", a.dot(a.T))\n",
    "# u has orthonormal columns and rows\n",
    "print(\"UU^T\",u.dot(u.T))\n",
    "print(\"U^TU\",u.T.dot(u))\n",
    "print(\"u norm columns\",np.linalg.norm(u,axis=0))\n",
    "print(\"u norm rows\",np.linalg.norm(u,axis=1))\n",
    "print(\"a norm rows\",np.linalg.norm(a,axis=1))\n",
    "\n",
    "# Product of two orthogonal matrices is orthogonal, but pay attention to column or row othogonality. \n",
    "\n",
    "uprime = a.T.dot(u)\n",
    "print(uprime.shape)\n",
    "print(np.linalg.norm(uprime,axis=0))\n",
    "\n",
    "vprime = u.T.dot(a)\n",
    "print(vprime.shape)\n",
    "print(np.linalg.norm(vprime,axis=1))\n",
    "\n",
    "u,s,v = np.linalg.svd(a)\n",
    "s = np.pad(np.diag(s),((0,0),(0,8)))\n",
    "r = u.dot(s).dot(v)\n",
    "print(u.shape,s.shape,v.shape,r.shape)\n",
    "\n",
    "u,s\n",
    "\n",
    "s.dot(v)\n",
    "\n",
    "v[:2]"
   ]
  }
 ],
 "metadata": {
  "kernelspec": {
   "display_name": "data",
   "language": "python",
   "name": "data"
  },
  "language_info": {
   "codemirror_mode": {
    "name": "ipython",
    "version": 3
   },
   "file_extension": ".py",
   "mimetype": "text/x-python",
   "name": "python",
   "nbconvert_exporter": "python",
   "pygments_lexer": "ipython3",
   "version": "3.8.2"
  }
 },
 "nbformat": 4,
 "nbformat_minor": 4
}
